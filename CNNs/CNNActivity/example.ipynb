{
 "cells": [
  {
   "cell_type": "code",
   "execution_count": 1,
   "metadata": {
    "collapsed": true
   },
   "outputs": [
    {
     "name": "stderr",
     "output_type": "stream",
     "text": [
      "/opt/homebrew/Caskroom/miniforge/base/envs/FoundationalAI/lib/python3.10/site-packages/torchvision/io/image.py:14: UserWarning: Failed to load image Python extension: 'dlopen(/opt/homebrew/Caskroom/miniforge/base/envs/FoundationalAI/lib/python3.10/site-packages/torchvision/image.so, 0x0006): Library not loaded: @rpath/libjpeg.9.dylib\n",
      "  Referenced from: <0B7EB158-53DC-3403-8A49-22178CAB4612> /opt/homebrew/Caskroom/miniforge/base/envs/FoundationalAI/lib/python3.10/site-packages/torchvision/image.so\n",
      "  Reason: tried: '/opt/homebrew/Caskroom/miniforge/base/envs/FoundationalAI/lib/python3.10/site-packages/torchvision/../../../libjpeg.9.dylib' (no such file), '/opt/homebrew/Caskroom/miniforge/base/envs/FoundationalAI/lib/python3.10/site-packages/torchvision/../../../libjpeg.9.dylib' (no such file), '/opt/homebrew/Caskroom/miniforge/base/envs/FoundationalAI/lib/python3.10/lib-dynload/../../libjpeg.9.dylib' (no such file), '/opt/homebrew/Caskroom/miniforge/base/envs/FoundationalAI/bin/../lib/libjpeg.9.dylib' (no such file)'If you don't plan on using image functionality from `torchvision.io`, you can ignore this warning. Otherwise, there might be something wrong with your environment. Did you have `libjpeg` or `libpng` installed before building `torchvision` from source?\n",
      "  warn(\n"
     ]
    }
   ],
   "source": [
    "import torch\n",
    "import torch.nn as nn\n",
    "import torch.optim as optim\n",
    "import torchvision\n",
    "import torchvision.transforms as transforms\n",
    "import matplotlib.pyplot as plt"
   ]
  },
  {
   "cell_type": "markdown",
   "source": [
    "# Download and setup FashionMNIST Dataset"
   ],
   "metadata": {
    "collapsed": false
   }
  },
  {
   "cell_type": "code",
   "execution_count": 2,
   "outputs": [],
   "source": [
    "# this transform will convert data to tensor then standardize the data (precomputed mean and std)\n",
    "transform = transforms.Compose([transforms.ToTensor(), transforms.Normalize((0.2860,), (0.3530,))])\n",
    "# download training and testing and apply transform to both\n",
    "training_data = torchvision.datasets.FashionMNIST(root='./data', train=True, download=True, transform=transform)\n",
    "testing_data = torchvision.datasets.FashionMNIST(root='./data', train=False, download=True, transform=transform)"
   ],
   "metadata": {
    "collapsed": false
   }
  },
  {
   "cell_type": "code",
   "execution_count": 3,
   "outputs": [],
   "source": [
    "# these data loaders handle the data during training and testing. Increase testing batch size if you have a lot of RAM\n",
    "trainloader = torch.utils.data.DataLoader(training_data, batch_size=32, shuffle=True)\n",
    "testloader = torch.utils.data.DataLoader(testing_data, batch_size=1000, shuffle=False)"
   ],
   "metadata": {
    "collapsed": false
   }
  },
  {
   "cell_type": "markdown",
   "source": [
    "# Design Model"
   ],
   "metadata": {
    "collapsed": false
   }
  },
  {
   "cell_type": "code",
   "execution_count": 80,
   "outputs": [],
   "source": [
    "class MyCNN(nn.Module):\n",
    "    \"\"\"\n",
    "    Create a custom CNN for FashionMNIST.\n",
    "\n",
    "    The default is a really, awful design\n",
    "    \"\"\"\n",
    "    def __init__(self):\n",
    "        # initialize nn.Module\n",
    "        super(MyCNN, self).__init__()\n",
    "        # A layer of 3x3 conv with 32 filters, output will be same heigh/width as input (which are 28x28)\n",
    "        # output will be of shape (batch size, 32, 28, 28)\n",
    "        self.conv1 = nn.Conv2d(1, 16, kernel_size=3, padding='same')\n",
    "        self.conv2 = nn.Conv2d(1, 16, kernel_size=5, padding='same')\n",
    "\n",
    "        self.conv3 = nn.Conv2d(32, 32, kernel_size=3, padding='same')\n",
    "        self.conv4 = nn.Conv2d(32, 32, kernel_size=7, padding=0)\n",
    "        self.relu = nn.ReLU()\n",
    "        self.pool = nn.MaxPool2d(2, 2)\n",
    "        # fully connected layer connecting output of pool to next dense layer\n",
    "        self.fc1 = nn.Linear(32, 16)\n",
    "        self.fc2 = nn.Linear(16, 10)\n",
    "        # we will use ReLU for all activations (except output layer)\n",
    "        self.relu = nn.ReLU()\n",
    "        # self.dropout = nn.Dropout(0.2)\n",
    "\n",
    "    def forward(self, x):\n",
    "        \"\"\"\n",
    "        Forward method for network\n",
    "        :param x: input, for fashion MNIST, this is of shape (batch size, 28, 28)\n",
    "        :return: output logits, shape (batch size, 10)\n",
    "        \"\"\"\n",
    "        x1 = self.relu(self.conv1(x))\n",
    "        # x1 = self.dropout(x1)\n",
    "        x1 = self.pool(x1)\n",
    "\n",
    "        x2 = self.relu(self.conv2(x))\n",
    "        # x2 = self.dropout(x2)\n",
    "        x2 = self.pool(x2)\n",
    "\n",
    "        x = torch.cat([x1, x2], dim=1) # this will be 32x14x14\n",
    "        # print(x.shape)\n",
    "\n",
    "        x = self.relu(self.conv3(x))\n",
    "        # x = self.dropout(x)\n",
    "        x = self.pool(x)  # this will be 64x7x7\n",
    "        # print(x.shape)\n",
    "\n",
    "        x = self.relu(self.conv4(x))\n",
    "        # print(x.shape)\n",
    "\n",
    "        x = x.view(-1, 32)  # Flatten\n",
    "        x = self.relu(self.fc1(x))\n",
    "        x = self.fc2(x)\n",
    "        return x"
   ],
   "metadata": {
    "collapsed": false
   }
  },
  {
   "cell_type": "code",
   "execution_count": 81,
   "outputs": [],
   "source": [
    "# Initialize model, loss, and optimizer\n",
    "device = torch.device(\"mps\" if torch.cuda.is_available() else \"cpu\")\n",
    "model = MyCNN().to(device)\n",
    "criterion = nn.CrossEntropyLoss()\n",
    "optimizer = optim.Adam(model.parameters(), lr=0.001)"
   ],
   "metadata": {
    "collapsed": false
   }
  },
  {
   "cell_type": "code",
   "execution_count": 82,
   "outputs": [],
   "source": [
    "# Training function\n",
    "def train_model(model, trainloader, criterion, optimizer, epochs=5):\n",
    "    for epoch in range(epochs):\n",
    "        running_loss = 0.0\n",
    "        correct, total = 0, 0\n",
    "\n",
    "        for images, labels in trainloader:\n",
    "            images, labels = images.to(device), labels.to(device)\n",
    "            optimizer.zero_grad()\n",
    "\n",
    "            outputs = model(images)\n",
    "            loss = criterion(outputs, labels)\n",
    "            loss.backward()\n",
    "            optimizer.step()\n",
    "\n",
    "            running_loss += loss.item()\n",
    "            _, predicted = torch.max(outputs, 1)\n",
    "            total += labels.size(0)\n",
    "            correct += (predicted == labels).sum().item()\n",
    "\n",
    "        print(f\"Epoch {epoch+1}, Loss: {running_loss/len(trainloader):.4f}, Accuracy: {100 * correct / total:.2f}%\")\n"
   ],
   "metadata": {
    "collapsed": false
   }
  },
  {
   "cell_type": "code",
   "execution_count": 83,
   "outputs": [
    {
     "name": "stdout",
     "output_type": "stream",
     "text": [
      "Epoch 1, Loss: 0.5117, Accuracy: 81.15%\n",
      "Epoch 2, Loss: 0.3201, Accuracy: 88.48%\n",
      "Epoch 3, Loss: 0.2703, Accuracy: 90.24%\n",
      "Epoch 4, Loss: 0.2446, Accuracy: 91.12%\n",
      "Epoch 5, Loss: 0.2241, Accuracy: 91.82%\n",
      "Epoch 6, Loss: 0.2076, Accuracy: 92.39%\n",
      "Epoch 7, Loss: 0.1930, Accuracy: 93.03%\n",
      "Epoch 8, Loss: 0.1799, Accuracy: 93.29%\n",
      "Epoch 9, Loss: 0.1709, Accuracy: 93.69%\n",
      "Epoch 10, Loss: 0.1606, Accuracy: 94.06%\n"
     ]
    }
   ],
   "source": [
    "# Train model\n",
    "train_model(model, trainloader, criterion, optimizer, epochs=10)"
   ],
   "metadata": {
    "collapsed": false
   }
  },
  {
   "cell_type": "code",
   "execution_count": 84,
   "outputs": [],
   "source": [
    "# Evaluation function\n",
    "def evaluate_model(model, testloader):\n",
    "    model.eval()\n",
    "    correct, total = 0, 0\n",
    "    all_predictions = []\n",
    "\n",
    "    with torch.no_grad():\n",
    "        for images, labels in testloader:\n",
    "            images, labels = images.to(device), labels.to(device)\n",
    "            outputs = model(images)\n",
    "            _, predicted = torch.max(outputs, 1)\n",
    "            all_predictions.extend(predicted.cpu().tolist())\n",
    "\n",
    "            total += labels.size(0)\n",
    "            correct += (predicted == labels).sum().item()\n",
    "\n",
    "    accuracy = 100 * correct / total\n",
    "    print(f\"Test Accuracy: {accuracy:.2f}%\")\n",
    "\n",
    "    return all_predictions"
   ],
   "metadata": {
    "collapsed": false
   }
  },
  {
   "cell_type": "code",
   "execution_count": 85,
   "outputs": [
    {
     "name": "stdout",
     "output_type": "stream",
     "text": [
      "Test Accuracy: 90.89%\n"
     ]
    }
   ],
   "source": [
    "# Evaluate model\n",
    "predictions = evaluate_model(model, testloader)"
   ],
   "metadata": {
    "collapsed": false
   }
  },
  {
   "cell_type": "code",
   "execution_count": 86,
   "outputs": [],
   "source": [
    "# Save predictions for submission\n",
    "import json\n",
    "submission_data = {\"name\": \"Student_Name\", \"predictions\": predictions}\n",
    "with open(\"submission.json\", \"w\") as f:\n",
    "    json.dump(submission_data, f)"
   ],
   "metadata": {
    "collapsed": false
   }
  },
  {
   "cell_type": "code",
   "execution_count": 87,
   "outputs": [],
   "source": [
    "# Save trained model\n",
    "torch.save(model, \"model.pth\")\n"
   ],
   "metadata": {
    "collapsed": false
   }
  },
  {
   "cell_type": "code",
   "execution_count": 88,
   "outputs": [
    {
     "name": "stdout",
     "output_type": "stream",
     "text": [
      "{'message': 'Submission received. Accuracy: 90.89%'}\n"
     ]
    }
   ],
   "source": [
    "import requests\n",
    "# Send results\n",
    "data = {\n",
    "    \"name\": \"The Real Ghawaly :(\",\n",
    "    \"predictions\": predictions\n",
    "}\n",
    "response = requests.post(\"https://csc7700leaderboard-d4fce9d9h2b5h8ab.centralus-01.azurewebsites.net/submit\", json=data)\n",
    "print(response.json())"
   ],
   "metadata": {
    "collapsed": false
   }
  },
  {
   "cell_type": "code",
   "execution_count": null,
   "outputs": [],
   "source": [],
   "metadata": {
    "collapsed": false
   }
  }
 ],
 "metadata": {
  "kernelspec": {
   "display_name": "Python 3",
   "language": "python",
   "name": "python3"
  },
  "language_info": {
   "codemirror_mode": {
    "name": "ipython",
    "version": 2
   },
   "file_extension": ".py",
   "mimetype": "text/x-python",
   "name": "python",
   "nbconvert_exporter": "python",
   "pygments_lexer": "ipython2",
   "version": "2.7.6"
  }
 },
 "nbformat": 4,
 "nbformat_minor": 0
}
