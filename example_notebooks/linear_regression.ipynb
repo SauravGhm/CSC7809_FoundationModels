{
 "cells": [
  {
   "cell_type": "markdown",
   "source": [
    "# Install Required Libraries"
   ],
   "metadata": {
    "collapsed": false
   }
  },
  {
   "cell_type": "code",
   "execution_count": 1,
   "outputs": [
    {
     "name": "stdout",
     "output_type": "stream",
     "text": [
      "Requirement already satisfied: ucimlrepo in /opt/homebrew/Caskroom/miniforge/base/envs/FoundationalAI/lib/python3.10/site-packages (0.0.7)\r\n",
      "Requirement already satisfied: pandas>=1.0.0 in /opt/homebrew/Caskroom/miniforge/base/envs/FoundationalAI/lib/python3.10/site-packages (from ucimlrepo) (2.2.2)\r\n",
      "Requirement already satisfied: certifi>=2020.12.5 in /opt/homebrew/Caskroom/miniforge/base/envs/FoundationalAI/lib/python3.10/site-packages (from ucimlrepo) (2024.12.14)\r\n",
      "Requirement already satisfied: numpy>=1.22.4 in /opt/homebrew/Caskroom/miniforge/base/envs/FoundationalAI/lib/python3.10/site-packages (from pandas>=1.0.0->ucimlrepo) (2.2.1)\r\n",
      "Requirement already satisfied: python-dateutil>=2.8.2 in /opt/homebrew/Caskroom/miniforge/base/envs/FoundationalAI/lib/python3.10/site-packages (from pandas>=1.0.0->ucimlrepo) (2.9.0.post0)\r\n",
      "Requirement already satisfied: pytz>=2020.1 in /opt/homebrew/Caskroom/miniforge/base/envs/FoundationalAI/lib/python3.10/site-packages (from pandas>=1.0.0->ucimlrepo) (2024.2)\r\n",
      "Requirement already satisfied: tzdata>=2022.7 in /opt/homebrew/Caskroom/miniforge/base/envs/FoundationalAI/lib/python3.10/site-packages (from pandas>=1.0.0->ucimlrepo) (2024.2)\r\n",
      "Requirement already satisfied: six>=1.5 in /opt/homebrew/Caskroom/miniforge/base/envs/FoundationalAI/lib/python3.10/site-packages (from python-dateutil>=2.8.2->pandas>=1.0.0->ucimlrepo) (1.17.0)\r\n",
      "Requirement already satisfied: scikit-learn in /opt/homebrew/Caskroom/miniforge/base/envs/FoundationalAI/lib/python3.10/site-packages (1.6.1)\r\n",
      "Requirement already satisfied: numpy>=1.19.5 in /opt/homebrew/Caskroom/miniforge/base/envs/FoundationalAI/lib/python3.10/site-packages (from scikit-learn) (2.2.1)\r\n",
      "Requirement already satisfied: scipy>=1.6.0 in /opt/homebrew/Caskroom/miniforge/base/envs/FoundationalAI/lib/python3.10/site-packages (from scikit-learn) (1.15.1)\r\n",
      "Requirement already satisfied: joblib>=1.2.0 in /opt/homebrew/Caskroom/miniforge/base/envs/FoundationalAI/lib/python3.10/site-packages (from scikit-learn) (1.4.2)\r\n",
      "Requirement already satisfied: threadpoolctl>=3.1.0 in /opt/homebrew/Caskroom/miniforge/base/envs/FoundationalAI/lib/python3.10/site-packages (from scikit-learn) (3.5.0)\r\n"
     ]
    }
   ],
   "source": [
    "import math\n",
    "!pip install ucimlrepo\n",
    "!pip install scikit-learn"
   ],
   "metadata": {
    "collapsed": false
   }
  },
  {
   "cell_type": "markdown",
   "source": [
    "# Download Miles Per Gallon Dataset"
   ],
   "metadata": {
    "collapsed": false
   }
  },
  {
   "cell_type": "code",
   "execution_count": 2,
   "outputs": [
    {
     "name": "stdout",
     "output_type": "stream",
     "text": [
      "Rows removed: 6\n"
     ]
    }
   ],
   "source": [
    "from ucimlrepo import fetch_ucirepo\n",
    "import pandas as pd\n",
    "\n",
    "# fetch dataset\n",
    "auto_mpg = fetch_ucirepo(id=9)\n",
    "\n",
    "# data (as pandas dataframes)\n",
    "X = auto_mpg.data.features\n",
    "y = auto_mpg.data.targets\n",
    "\n",
    "# Combine features and target into one DataFrame for easy filtering\n",
    "data = pd.concat([X, y], axis=1)\n",
    "\n",
    "# Drop rows where the target variable is NaN\n",
    "cleaned_data = data.dropna()\n",
    "\n",
    "# Split the data back into features (X) and target (y)\n",
    "X = cleaned_data.iloc[:, :-1]\n",
    "y = cleaned_data.iloc[:, -1]\n",
    "\n",
    "# Display the number of rows removed\n",
    "rows_removed = len(data) - len(cleaned_data)\n",
    "print(f\"Rows removed: {rows_removed}\")"
   ],
   "metadata": {
    "collapsed": false
   }
  },
  {
   "cell_type": "markdown",
   "source": [
    "# Training, Validation, Testing Split and Data Standardization"
   ],
   "metadata": {
    "collapsed": false
   }
  },
  {
   "cell_type": "code",
   "execution_count": 3,
   "outputs": [],
   "source": [
    "from sklearn.model_selection import train_test_split\n",
    "\n",
    "# Do a 70/30 split (e.g., 70% train, 30% other)\n",
    "X_train, X_leftover, y_train, y_leftover = train_test_split(\n",
    "    X, y,\n",
    "    test_size=0.3,\n",
    "    random_state=42,    # for reproducibility\n",
    "    shuffle=True,       # whether to shuffle the data before splitting\n",
    ")\n",
    "\n",
    "# Split the remaining 30% into validation/testing (15%/15%)\n",
    "X_val, X_test, y_val, y_test = train_test_split(\n",
    "    X_leftover, y_leftover,\n",
    "    test_size=0.5,\n",
    "    random_state=42,\n",
    "    shuffle=True,\n",
    ")\n",
    "\n",
    "# Compute statistics for X (features)\n",
    "X_mean = X_train.mean(axis=0)  # Mean of each feature\n",
    "X_std = X_train.std(axis=0)    # Standard deviation of each feature\n",
    "\n",
    "# Standardize X\n",
    "X_train = (X_train - X_mean) / X_std\n",
    "X_val = (X_val - X_mean) / X_std\n",
    "X_test = (X_test - X_mean) / X_std\n",
    "\n",
    "# Compute statistics for y (targets)\n",
    "y_mean = y_train.mean()  # Mean of target\n",
    "y_std = y_train.std()    # Standard deviation of target\n",
    "\n",
    "# Standardize y\n",
    "y_train = (y_train - y_mean) / y_std\n",
    "y_val = (y_val - y_mean) / y_std\n",
    "y_test = (y_test - y_mean) / y_std"
   ],
   "metadata": {
    "collapsed": false
   }
  },
  {
   "cell_type": "code",
   "execution_count": 10,
   "outputs": [
    {
     "data": {
      "text/plain": "(274, 7)"
     },
     "execution_count": 10,
     "metadata": {},
     "output_type": "execute_result"
    }
   ],
   "source": [
    "X_train.shape"
   ],
   "metadata": {
    "collapsed": false
   }
  },
  {
   "cell_type": "code",
   "execution_count": 4,
   "outputs": [
    {
     "name": "stdout",
     "output_type": "stream",
     "text": [
      "Samples in Training:   274\n",
      "Samples in Validation: 59\n",
      "Samples in Testing:    59\n"
     ]
    }
   ],
   "source": [
    "print(f\"Samples in Training:   {len(X_train)}\")\n",
    "print(f\"Samples in Validation: {len(X_val)}\")\n",
    "print(f\"Samples in Testing:    {len(X_test)}\")"
   ],
   "metadata": {
    "collapsed": false
   }
  },
  {
   "cell_type": "markdown",
   "source": [
    "# Define our Linear Regression Model"
   ],
   "metadata": {
    "collapsed": false
   }
  },
  {
   "cell_type": "code",
   "execution_count": 5,
   "outputs": [],
   "source": [
    "import numpy as np\n",
    "import math\n",
    "\n",
    "def mse_loss(y_pred: np.ndarray, y_actual: np.ndarray):\n",
    "    \"\"\"\n",
    "    Calculate the Mean Squared Error loss\n",
    "    :param y_pred: predicted y values\n",
    "    :param y_actual: actual y values\n",
    "    :return: mean squared error\n",
    "    \"\"\"\n",
    "    return 1 / 2 * np.mean(np.square(y_pred - y_actual.flatten()))\n",
    "\n",
    "\n",
    "def mse_loss_gradient(x: np.ndarray, y_pred: np.ndarray, y_actual: np.ndarray):\n",
    "    \"\"\"\n",
    "    Calculate the partial derivative of the MSE loss function wrt weights and bias\n",
    "    :param x: x data\n",
    "    :param y_pred: predicted y data\n",
    "    :param y_actual: actual y data\n",
    "    :return: derivative of loss wrt (weight, bias)\n",
    "    \"\"\"\n",
    "    error = y_pred - y_actual.flatten()\n",
    "\n",
    "    dL_dw = x.T @ error\n",
    "    dL_db = np.sum(error)\n",
    "\n",
    "    return dL_dw / len(x), dL_db / len(x)\n",
    "\n",
    "\n",
    "class LinearRegression:\n",
    "    def __init__(self, num_features: int, y_mean: float, y_std: float):\n",
    "        \"\"\"\n",
    "        Linear Regression, training and prediction\n",
    "        :param num_features: (int) number of input features\n",
    "        :param y_mean: mean of y training dist\n",
    "        :param y_std: standard deviation of y training dist\n",
    "        \"\"\"\n",
    "        self.num_features = num_features\n",
    "        self.y_mean = y_mean\n",
    "        self.y_std = y_std\n",
    "\n",
    "        # Randomly sample weights and biases from Normal distribution\n",
    "        self.w = np.random.normal(size=num_features) * 0.01\n",
    "        self.b = 0.0\n",
    "\n",
    "    def predict(self, x: np.ndarray) -> np.ndarray:\n",
    "        \"\"\"\n",
    "        Perform prediction/inference\n",
    "        :param x: input data\n",
    "        :return: standardized results\n",
    "        \"\"\"\n",
    "        assert x.shape[1] == self.num_features, \"Input features do not match initialized weights.\"\n",
    "\n",
    "        return self.w @ x.T + self.b\n",
    "\n",
    "    def predict_mpg(self, x: np.ndarray) -> np.ndarray:\n",
    "        \"\"\"\n",
    "        Perform prediction/inference\n",
    "        :param x: input data\n",
    "        :return: results\n",
    "        \"\"\"\n",
    "        return self.predict(x) * self.y_std + self.y_mean\n",
    "\n",
    "    def train(self,\n",
    "              X: np.ndarray, y: np.ndarray,\n",
    "              X_val: np.ndarray, y_val: np.ndarray,\n",
    "              learning_rate: float=1E-3, batch_size: int=8, epochs=30):\n",
    "        \"\"\"\n",
    "        Train the linear regression model\n",
    "\n",
    "        :param X: Training data, 2D numpy array, rows are samples and columns are features\n",
    "        :param y: Training targets, numpy array of target values\n",
    "        :param X_val: Validation data, same format as X\n",
    "        :param y_val: Validation targets, same format as y\n",
    "        :param learning_rate: training learning rate\n",
    "        :param batch_size: size of each batch\n",
    "        :param epochs: number of epochs to train for\n",
    "        :return: training loss, validation loss (np.ndarray, np.ndarray)\n",
    "        \"\"\"\n",
    "        assert len(X) == len(y), \"Number of samples in X and y do not match.\"\n",
    "\n",
    "        x_batches = np.array_split(X, math.ceil(len(X) / batch_size), axis=0)\n",
    "        y_batches = np.array_split(y, math.ceil(len(y) / batch_size), axis=0)\n",
    "\n",
    "        train_losses = []\n",
    "        val_losses = []\n",
    "\n",
    "        for i in range(epochs):\n",
    "            total_loss = 0\n",
    "            bi = 0\n",
    "            for bx, by in zip(x_batches, y_batches):\n",
    "                y_pred = self.predict(bx)\n",
    "\n",
    "                loss = mse_loss(y_pred, by)\n",
    "                wgrad, bgrad = mse_loss_gradient(bx, y_pred, by)\n",
    "\n",
    "                self.w -= learning_rate * wgrad\n",
    "                self.b -= learning_rate * bgrad\n",
    "\n",
    "                total_loss += loss\n",
    "                bi += 1\n",
    "\n",
    "            val_loss = mse_loss(self.predict(X_val), y_val)\n",
    "            train_loss = total_loss / len(x_batches)\n",
    "\n",
    "            train_losses.append(train_loss)\n",
    "            val_losses.append(val_loss)\n",
    "\n",
    "            print(f\"Epoch {i}  :::  Train Loss={train_loss}  :::  Val Loss={val_loss}\")\n",
    "\n",
    "        return np.array(train_losses), np.array(val_losses)"
   ],
   "metadata": {
    "collapsed": false
   }
  },
  {
   "cell_type": "markdown",
   "source": [
    "# Initialize Model and Train it"
   ],
   "metadata": {
    "collapsed": false
   }
  },
  {
   "cell_type": "code",
   "execution_count": 6,
   "outputs": [
    {
     "name": "stdout",
     "output_type": "stream",
     "text": [
      "Epoch 0  :::  Train Loss=0.46914017745869663  :::  Val Loss=0.3630950465002619\n",
      "Epoch 1  :::  Train Loss=0.37422411069090966  :::  Val Loss=0.2925761719856473\n",
      "Epoch 2  :::  Train Loss=0.305127916305932  :::  Val Loss=0.24163337495085005\n",
      "Epoch 3  :::  Train Loss=0.2547493875929099  :::  Val Loss=0.2048129794922955\n",
      "Epoch 4  :::  Train Loss=0.2179432069049859  :::  Val Loss=0.17817438810288366\n",
      "Epoch 5  :::  Train Loss=0.19098165400686049  :::  Val Loss=0.15887161519570128\n",
      "Epoch 6  :::  Train Loss=0.1711639321097217  :::  Val Loss=0.14485034606992345\n",
      "Epoch 7  :::  Train Loss=0.15653315719442465  :::  Val Loss=0.13462865856061934\n",
      "Epoch 8  :::  Train Loss=0.14567134167881368  :::  Val Loss=0.12713832836580685\n",
      "Epoch 9  :::  Train Loss=0.13755087915350023  :::  Val Loss=0.12161000191845807\n",
      "Epoch 10  :::  Train Loss=0.13142695970770968  :::  Val Loss=0.11749012980512129\n",
      "Epoch 11  :::  Train Loss=0.12675963608292348  :::  Val Loss=0.11438089242612894\n",
      "Epoch 12  :::  Train Loss=0.12315736925621967  :::  Val Loss=0.11199676796477748\n",
      "Epoch 13  :::  Train Loss=0.12033613387215639  :::  Val Loss=0.11013314442264244\n",
      "Epoch 14  :::  Train Loss=0.11808979523964881  :::  Val Loss=0.108643646228252\n",
      "Epoch 15  :::  Train Loss=0.11626865137786889  :::  Val Loss=0.10742376484449513\n",
      "Epoch 16  :::  Train Loss=0.11476388970507082  :::  Val Loss=0.10639904831217525\n",
      "Epoch 17  :::  Train Loss=0.11349632815497449  :::  Val Loss=0.10551658662498722\n",
      "Epoch 18  :::  Train Loss=0.11240825978743077  :::  Val Loss=0.10473887883589036\n",
      "Epoch 19  :::  Train Loss=0.11145754542989252  :::  Val Loss=0.10403942050137965\n",
      "Epoch 20  :::  Train Loss=0.11061333466227971  :::  Val Loss=0.10339953303072959\n",
      "Epoch 21  :::  Train Loss=0.10985296625697911  :::  Val Loss=0.10280608895541368\n",
      "Epoch 22  :::  Train Loss=0.10915972291379517  :::  Val Loss=0.10224988300137189\n",
      "Epoch 23  :::  Train Loss=0.10852120475830102  :::  Val Loss=0.10172446822478357\n",
      "Epoch 24  :::  Train Loss=0.10792815099834033  :::  Val Loss=0.10122532666956227\n",
      "Epoch 25  :::  Train Loss=0.10737358616496782  :::  Val Loss=0.10074928031567255\n",
      "Epoch 26  :::  Train Loss=0.1068522014324992  :::  Val Loss=0.10029407434549444\n",
      "Epoch 27  :::  Train Loss=0.1063599061901514  :::  Val Loss=0.09985808373732406\n",
      "Epoch 28  :::  Train Loss=0.10589350291306897  :::  Val Loss=0.09944010791126237\n",
      "Epoch 29  :::  Train Loss=0.10545045132818065  :::  Val Loss=0.09903922805901798\n",
      "Epoch 30  :::  Train Loss=0.1050286972484893  :::  Val Loss=0.09865470893953687\n",
      "Epoch 31  :::  Train Loss=0.10462654824192685  :::  Val Loss=0.09828593207988015\n",
      "Epoch 32  :::  Train Loss=0.10424258322051576  :::  Val Loss=0.09793235103767052\n",
      "Epoch 33  :::  Train Loss=0.10387558659856558  :::  Val Loss=0.09759346205738316\n",
      "Epoch 34  :::  Train Loss=0.1035245002489761  :::  Val Loss=0.09726878537693316\n",
      "Epoch 35  :::  Train Loss=0.10318838835533703  :::  Val Loss=0.09695785382258108\n",
      "Epoch 36  :::  Train Loss=0.1028664116106402  :::  Val Loss=0.09666020632038763\n",
      "Epoch 37  :::  Train Loss=0.10255780819319886  :::  Val Loss=0.09637538466064263\n",
      "Epoch 38  :::  Train Loss=0.1022618796597612  :::  Val Loss=0.0961029323568652\n",
      "Epoch 39  :::  Train Loss=0.10197798040939025  :::  Val Loss=0.09584239480018296\n",
      "Epoch 40  :::  Train Loss=0.10170550974346397  :::  Val Loss=0.09559332016431893\n",
      "Epoch 41  :::  Train Loss=0.10144390581626679  :::  Val Loss=0.09535526069574894\n",
      "Epoch 42  :::  Train Loss=0.10119264096541168  :::  Val Loss=0.09512777414923584\n",
      "Epoch 43  :::  Train Loss=0.10095121805228156  :::  Val Loss=0.09491042521630438\n",
      "Epoch 44  :::  Train Loss=0.10071916754466784  :::  Val Loss=0.09470278685436723\n",
      "Epoch 45  :::  Train Loss=0.10049604514756734  :::  Val Loss=0.09450444146509274\n",
      "Epoch 46  :::  Train Loss=0.10028142984147262  :::  Val Loss=0.09431498189791866\n",
      "Epoch 47  :::  Train Loss=0.1000749222260963  :::  Val Loss=0.09413401227243073\n",
      "Epoch 48  :::  Train Loss=0.09987614309538514  :::  Val Loss=0.09396114862454265\n",
      "Epoch 49  :::  Train Loss=0.099684732189869  :::  Val Loss=0.09379601938810096\n",
      "Epoch 50  :::  Train Loss=0.09950034708698464  :::  Val Loss=0.09363826572714579\n",
      "Epoch 51  :::  Train Loss=0.09932266220056897  :::  Val Loss=0.09348754173562279\n",
      "Epoch 52  :::  Train Loss=0.09915136786834695  :::  Val Loss=0.09334351452157519\n",
      "Epoch 53  :::  Train Loss=0.09898616951176209  :::  Val Loss=0.09320586419224437\n",
      "Epoch 54  :::  Train Loss=0.09882678685648774  :::  Val Loss=0.09307428375542445\n",
      "Epoch 55  :::  Train Loss=0.09867295320485364  :::  Val Loss=0.09294847895107021\n",
      "Epoch 56  :::  Train Loss=0.09852441475351692  :::  Val Loss=0.09282816802571078\n",
      "Epoch 57  :::  Train Loss=0.0983809299512312  :::  Val Loss=0.09271308146077148\n",
      "Epoch 58  :::  Train Loss=0.09824226889267537  :::  Val Loss=0.09260296166451137\n",
      "Epoch 59  :::  Train Loss=0.09810821274511393  :::  Val Loss=0.09249756263598422\n",
      "Epoch 60  :::  Train Loss=0.09797855320525681  :::  Val Loss=0.09239664960824427\n",
      "Epoch 61  :::  Train Loss=0.09785309198412366  :::  Val Loss=0.0922999986769476\n",
      "Epoch 62  :::  Train Loss=0.09773164031804778  :::  Val Loss=0.09220739641955115\n",
      "Epoch 63  :::  Train Loss=0.09761401850420022  :::  Val Loss=0.09211863950947376\n",
      "Epoch 64  :::  Train Loss=0.09750005545920257  :::  Val Loss=0.09203353432885326\n",
      "Epoch 65  :::  Train Loss=0.09738958829954508  :::  Val Loss=0.09195189658289821\n",
      "Epoch 66  :::  Train Loss=0.09728246194264095  :::  Val Loss=0.09187355091828546\n",
      "Epoch 67  :::  Train Loss=0.09717852872744213  :::  Val Loss=0.09179833054758456\n",
      "Epoch 68  :::  Train Loss=0.09707764805361875  :::  Val Loss=0.09172607688128774\n",
      "Epoch 69  :::  Train Loss=0.09697968603837029  :::  Val Loss=0.09165663916868304\n",
      "Epoch 70  :::  Train Loss=0.09688451518999298  :::  Val Loss=0.09158987414851726\n",
      "Epoch 71  :::  Train Loss=0.09679201409737748  :::  Val Loss=0.09152564571015273\n",
      "Epoch 72  :::  Train Loss=0.09670206713465573  :::  Val Loss=0.09146382456571592\n",
      "Epoch 73  :::  Train Loss=0.09661456418025775  :::  Val Loss=0.0914042879335648\n",
      "Epoch 74  :::  Train Loss=0.09652940034967394  :::  Val Loss=0.09134691923326047\n",
      "Epoch 75  :::  Train Loss=0.0964464757412573  :::  Val Loss=0.09129160779211003\n",
      "Epoch 76  :::  Train Loss=0.09636569519442874  :::  Val Loss=0.09123824856325238\n",
      "Epoch 77  :::  Train Loss=0.09628696805968309  :::  Val Loss=0.09118674185518014\n",
      "Epoch 78  :::  Train Loss=0.0962102079798193  :::  Val Loss=0.0911369930725273\n",
      "Epoch 79  :::  Train Loss=0.09613533268184936  :::  Val Loss=0.09108891246790381\n",
      "Epoch 80  :::  Train Loss=0.09606226377906402  :::  Val Loss=0.09104241490451678\n",
      "Epoch 81  :::  Train Loss=0.09599092658276012  :::  Val Loss=0.09099741962929081\n",
      "Epoch 82  :::  Train Loss=0.09592124992315765  :::  Val Loss=0.09095385005617512\n",
      "Epoch 83  :::  Train Loss=0.09585316597905723  :::  Val Loss=0.09091163355931145\n",
      "Epoch 84  :::  Train Loss=0.09578661011581166  :::  Val Loss=0.09087070127572437\n",
      "Epoch 85  :::  Train Loss=0.09572152073120331  :::  Val Loss=0.09083098791719156\n",
      "Epoch 86  :::  Train Loss=0.09565783910884207  :::  Val Loss=0.090792431590947\n",
      "Epoch 87  :::  Train Loss=0.09559550927871487  :::  Val Loss=0.09075497362887253\n",
      "Epoch 88  :::  Train Loss=0.09553447788453645  :::  Val Loss=0.09071855842483492\n",
      "Epoch 89  :::  Train Loss=0.0954746940575694  :::  Val Loss=0.09068313327983114\n",
      "Epoch 90  :::  Train Loss=0.09541610929659498  :::  Val Loss=0.09064864825461044\n",
      "Epoch 91  :::  Train Loss=0.09535867735373481  :::  Val Loss=0.09061505602945061\n",
      "Epoch 92  :::  Train Loss=0.0953023541258362  :::  Val Loss=0.09058231177077243\n",
      "Epoch 93  :::  Train Loss=0.09524709755114827  :::  Val Loss=0.09055037300428782\n",
      "Epoch 94  :::  Train Loss=0.09519286751103066  :::  Val Loss=0.09051919949438535\n",
      "Epoch 95  :::  Train Loss=0.09513962573644695  :::  Val Loss=0.09048875312946715\n",
      "Epoch 96  :::  Train Loss=0.09508733571900962  :::  Val Loss=0.09045899781296267\n",
      "Epoch 97  :::  Train Loss=0.09503596262635296  :::  Val Loss=0.09042989935975257\n",
      "Epoch 98  :::  Train Loss=0.09498547322162262  :::  Val Loss=0.09040142539774984\n",
      "Epoch 99  :::  Train Loss=0.09493583578687943  :::  Val Loss=0.0903735452743922\n"
     ]
    }
   ],
   "source": [
    "linreg = LinearRegression(7, y_mean, y_std)\n",
    "training_loss, validation_loss = linreg.train(X_train.to_numpy(),\n",
    "                                              y_train.to_numpy(),\n",
    "                                              X_val.to_numpy(),\n",
    "                                              y_val.to_numpy(),\n",
    "                                              epochs=100)"
   ],
   "metadata": {
    "collapsed": false
   }
  },
  {
   "cell_type": "markdown",
   "source": [
    "# Plot the Loss Curve"
   ],
   "metadata": {
    "collapsed": false
   }
  },
  {
   "cell_type": "code",
   "execution_count": 7,
   "outputs": [
    {
     "data": {
      "text/plain": "<matplotlib.legend.Legend at 0x348d93430>"
     },
     "execution_count": 7,
     "metadata": {},
     "output_type": "execute_result"
    },
    {
     "data": {
      "text/plain": "<Figure size 640x480 with 1 Axes>",
      "image/png": "[encoded data removed]"
     },
     "metadata": {},
     "output_type": "display_data"
    }
   ],
   "source": [
    "import matplotlib.pyplot as plt\n",
    "\n",
    "plt.plot(training_loss, color='b', label='Training')\n",
    "plt.plot(validation_loss, color='r', label=\"Validation\")\n",
    "plt.title(\"Loss Curve\", size=16)\n",
    "plt.legend()"
   ],
   "metadata": {
    "collapsed": false
   }
  },
  {
   "cell_type": "markdown",
   "source": [
    "# Evaluate on Testing Dataset"
   ],
   "metadata": {
    "collapsed": false
   }
  },
  {
   "cell_type": "code",
   "execution_count": 8,
   "outputs": [
    {
     "name": "stdout",
     "output_type": "stream",
     "text": [
      "Testing Loss: 0.0896793189786334\n"
     ]
    }
   ],
   "source": [
    "testing_predictions = linreg.predict(X_test.to_numpy())\n",
    "testing_loss = mse_loss(testing_predictions, y_test.to_numpy())\n",
    "print(f'Testing Loss: {testing_loss}')"
   ],
   "metadata": {
    "collapsed": false
   }
  },
  {
   "cell_type": "markdown",
   "source": [
    "## Predict MPG for Test Set"
   ],
   "metadata": {
    "collapsed": false
   }
  },
  {
   "cell_type": "code",
   "execution_count": 9,
   "outputs": [
    {
     "data": {
      "text/plain": "array([19.55004481, 18.44181701, 29.1632812 ,  8.95297252, 23.30714932,\n       18.55267431,  8.8600375 , 11.03275429, 26.67486159, 29.30569638,\n       27.9749313 , 32.2405207 , 25.87755428, 23.07658873, 33.67136202,\n       23.15874173, 18.00322197, 26.50187346, 11.29487713, 18.91628273,\n       30.07444704, 13.963758  , 21.28508187, 34.09885573, 13.38608586,\n       16.47729645, 29.4897148 , 23.12657453, 25.54103966, 28.93115916,\n       26.67926117, 34.74303207, 13.28852899, 18.33924893, 22.4502953 ,\n       14.05167215, 25.40180581, 27.42622374, 28.86074738, 32.21496608,\n       31.6458738 , 20.94337295, 28.29482837, 31.64825781, 13.84795692,\n       30.64498723, 14.05064086, 29.60004103,  7.80746748, 30.2378969 ,\n       35.38690697, 21.06542439, 28.55182755, 12.20392983, 33.29618501,\n       30.81751278, 27.54222066, 24.24398954, 26.51705388])"
     },
     "execution_count": 9,
     "metadata": {},
     "output_type": "execute_result"
    }
   ],
   "source": [
    "linreg.predict_mpg(X_test.to_numpy())"
   ],
   "metadata": {
    "collapsed": false
   }
  },
  {
   "cell_type": "code",
   "execution_count": null,
   "outputs": [],
   "source": [],
   "metadata": {
    "collapsed": false
   }
  }
 ],
 "metadata": {
  "kernelspec": {
   "display_name": "Python 3",
   "language": "python",
   "name": "python3"
  },
  "language_info": {
   "codemirror_mode": {
    "name": "ipython",
    "version": 2
   },
   "file_extension": ".py",
   "mimetype": "text/x-python",
   "name": "python",
   "nbconvert_exporter": "python",
   "pygments_lexer": "ipython2",
   "version": "2.7.6"
  }
 },
 "nbformat": 4,
 "nbformat_minor": 0
}
